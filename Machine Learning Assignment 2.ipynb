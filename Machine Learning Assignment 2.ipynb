{
 "cells": [
  {
   "cell_type": "code",
   "execution_count": 1,
   "id": "190a6e64-09cf-4da9-8236-e5c3c8fedd81",
   "metadata": {},
   "outputs": [],
   "source": [
    "# 1 Ans.  When the accuracy rate of trainned model is High but test rate is low this condition \n",
    "#         is known as overfitting. In this case it is Low Bias and High Variance\n",
    "    "
   ]
  },
  {
   "cell_type": "code",
   "execution_count": 2,
   "id": "4c637d91-c41a-479e-bd5b-00885e0a30dc",
   "metadata": {},
   "outputs": [],
   "source": [
    "# 2 Ans. You can prevent overfitting by diversifying and scaling your training data set or using some \n",
    "# other data science strategies, like those given below.\n",
    "# Early stopping. Early stopping pauses the training phase before the machine learning \n",
    "# model learns the noise in the data. ...\n",
    "# Pruning. ...\n",
    "# Regularization. ...\n",
    "# Ensembling. ...\n",
    "# Data augmentation."
   ]
  },
  {
   "cell_type": "code",
   "execution_count": 3,
   "id": "f3102c46-9e30-4b55-8d19-5de2f18a4b8b",
   "metadata": {},
   "outputs": [],
   "source": [
    "# 3 Ans Underfitting occurs when a model is too simple, which can be a result of a model needing more \n",
    "#       training time, more input features, or less regularization. Like overfitting, when a model is underfitted, \n",
    "#        it cannot establish the dominant trend within the data, resulting in training errors and poor performance \n",
    "#         of the model. in thi case it is low bias and low variance"
   ]
  },
  {
   "cell_type": "code",
   "execution_count": 4,
   "id": "06a35412-14f6-4cfe-b554-a9d80f6453f5",
   "metadata": {},
   "outputs": [],
   "source": [
    "# 4 Ans. The bias is known as the difference between the prediction of the values by\n",
    "#        the Machine Learning model and the correct value. Being high in biasing gives a large error in training\n",
    "#     as well as testing data. It recommended that an algorithm should always be low-biased to avoid \n",
    "#     the problem of underfitting. By high bias, the data predicted is in a straight line format, \n",
    "#     thus not fitting accurately in the data in the data set. \n",
    "#        Such fitting is known as the Underfitting of Data.\n",
    "        \n",
    "#         The variability of model prediction for a given data point which tells us the spread of our \n",
    "#         data is called the variance of the model. The model with high variance has a very complex fit to \n",
    "#         the training data and thus is not able to fit accurately on the data which it hasn’t seen before.\n",
    "#         As a result, such models perform very well on training data but have high error rates on test data. \n",
    "#         When a model is high on variance, it is then said to as Overfitting of Data"
   ]
  },
  {
   "cell_type": "code",
   "execution_count": 5,
   "id": "e73a5faf-9133-46b2-9840-bb95a83a68cf",
   "metadata": {},
   "outputs": [],
   "source": [
    "# 5 Ans. We can determine whether a predictive model is underfitting or overfitting the training data \n",
    "#        by looking at the prediction error on the training data and the evaluation data. \n",
    "#        Your model is underfitting the training data when the model performs poorly on the training data."
   ]
  },
  {
   "cell_type": "code",
   "execution_count": 6,
   "id": "8fe317cc-9eda-485c-978e-7712e6993cc3",
   "metadata": {},
   "outputs": [],
   "source": [
    "# # 6 Ans. A model with high variance may represent the data set accurately but could lead to \n",
    "#           overfitting to noisy or otherwise unrepresentative training data. In comparison, a model with \n",
    "#           high bias may underfit the training data due to a simpler model \n",
    "# #        that overlooks regularities in the data."
   ]
  },
  {
   "cell_type": "code",
   "execution_count": 7,
   "id": "91ced7bd-55d5-4aaa-9b84-9dcbd8cb9495",
   "metadata": {},
   "outputs": [],
   "source": [
    "# 7 Ans. As of my knowledge, regularization is a method in machine Learning to prevent data from overfitting\n",
    "#        by adding constraints or penalties to the model's loss function. It helps to discourage the use of complex\n",
    "#         and intricate patterns that may fit the training data too closely"
   ]
  },
  {
   "cell_type": "code",
   "execution_count": null,
   "id": "57862cfb-bf19-431a-b1a0-b73cbd930a63",
   "metadata": {},
   "outputs": [],
   "source": []
  }
 ],
 "metadata": {
  "kernelspec": {
   "display_name": "Python 3 (ipykernel)",
   "language": "python",
   "name": "python3"
  },
  "language_info": {
   "codemirror_mode": {
    "name": "ipython",
    "version": 3
   },
   "file_extension": ".py",
   "mimetype": "text/x-python",
   "name": "python",
   "nbconvert_exporter": "python",
   "pygments_lexer": "ipython3",
   "version": "3.10.8"
  }
 },
 "nbformat": 4,
 "nbformat_minor": 5
}
